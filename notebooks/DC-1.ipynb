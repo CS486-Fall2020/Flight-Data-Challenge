{
 "cells": [
  {
   "cell_type": "code",
   "execution_count": 1,
   "metadata": {},
   "outputs": [],
   "source": [
    "import pandas as pd\n",
    "import numpy as np\n",
    "from sklearn.preprocessing import LabelEncoder, OneHotEncoder\n",
    "from sklearn.model_selection import train_test_split\n",
    "from sklearn.ensemble import RandomForestClassifier\n",
    "from sklearn.metrics import accuracy_score, precision_score, confusion_matrix\n",
    "import matplotlib.pyplot as plt\n",
    "from sklearn.model_selection import GridSearchCV\n",
    "from sklearn.neighbors import KNeighborsClassifier"
   ]
  },
  {
   "cell_type": "code",
   "execution_count": 2,
   "metadata": {
    "scrolled": true
   },
   "outputs": [
    {
     "data": {
      "text/html": [
       "<div>\n",
       "<style scoped>\n",
       "    .dataframe tbody tr th:only-of-type {\n",
       "        vertical-align: middle;\n",
       "    }\n",
       "\n",
       "    .dataframe tbody tr th {\n",
       "        vertical-align: top;\n",
       "    }\n",
       "\n",
       "    .dataframe thead th {\n",
       "        text-align: right;\n",
       "    }\n",
       "</style>\n",
       "<table border=\"1\" class=\"dataframe\">\n",
       "  <thead>\n",
       "    <tr style=\"text-align: right;\">\n",
       "      <th></th>\n",
       "      <th>MONTH</th>\n",
       "      <th>DAY_OF_WEEK</th>\n",
       "      <th>FL_DATE</th>\n",
       "      <th>UNIQUE_CARRIER</th>\n",
       "      <th>FL_NUM</th>\n",
       "      <th>ORIGIN</th>\n",
       "      <th>ORIGIN_CITY_NAME</th>\n",
       "      <th>DEST</th>\n",
       "      <th>DEST_CITY_NAME</th>\n",
       "      <th>CRS_DEP_TIME</th>\n",
       "      <th>ARR_DEL15</th>\n",
       "      <th>CRS_ELAPSED_TIME</th>\n",
       "      <th>DISTANCE</th>\n",
       "      <th>Unnamed: 13</th>\n",
       "    </tr>\n",
       "  </thead>\n",
       "  <tbody>\n",
       "    <tr>\n",
       "      <th>4908436</th>\n",
       "      <td>1.0</td>\n",
       "      <td>1.0</td>\n",
       "      <td>2017-01-30</td>\n",
       "      <td>AA</td>\n",
       "      <td>2454.0</td>\n",
       "      <td>BOS</td>\n",
       "      <td>Boston, MA</td>\n",
       "      <td>MIA</td>\n",
       "      <td>Miami, FL</td>\n",
       "      <td>500.0</td>\n",
       "      <td>0.0</td>\n",
       "      <td>220.0</td>\n",
       "      <td>1258.0</td>\n",
       "      <td>NaN</td>\n",
       "    </tr>\n",
       "    <tr>\n",
       "      <th>4169457</th>\n",
       "      <td>9.0</td>\n",
       "      <td>2.0</td>\n",
       "      <td>2016-09-20</td>\n",
       "      <td>WN</td>\n",
       "      <td>983.0</td>\n",
       "      <td>BWI</td>\n",
       "      <td>Baltimore, MD</td>\n",
       "      <td>TPA</td>\n",
       "      <td>Tampa, FL</td>\n",
       "      <td>2035.0</td>\n",
       "      <td>0.0</td>\n",
       "      <td>145.0</td>\n",
       "      <td>842.0</td>\n",
       "      <td>NaN</td>\n",
       "    </tr>\n",
       "    <tr>\n",
       "      <th>3836782</th>\n",
       "      <td>9.0</td>\n",
       "      <td>5.0</td>\n",
       "      <td>2016-09-02</td>\n",
       "      <td>B6</td>\n",
       "      <td>1853.0</td>\n",
       "      <td>FLL</td>\n",
       "      <td>Fort Lauderdale, FL</td>\n",
       "      <td>SJU</td>\n",
       "      <td>San Juan, PR</td>\n",
       "      <td>1830.0</td>\n",
       "      <td>0.0</td>\n",
       "      <td>158.0</td>\n",
       "      <td>1046.0</td>\n",
       "      <td>NaN</td>\n",
       "    </tr>\n",
       "  </tbody>\n",
       "</table>\n",
       "</div>"
      ],
      "text/plain": [
       "         MONTH  DAY_OF_WEEK     FL_DATE UNIQUE_CARRIER  FL_NUM ORIGIN  \\\n",
       "4908436    1.0          1.0  2017-01-30             AA  2454.0    BOS   \n",
       "4169457    9.0          2.0  2016-09-20             WN   983.0    BWI   \n",
       "3836782    9.0          5.0  2016-09-02             B6  1853.0    FLL   \n",
       "\n",
       "            ORIGIN_CITY_NAME DEST DEST_CITY_NAME  CRS_DEP_TIME  ARR_DEL15  \\\n",
       "4908436           Boston, MA  MIA      Miami, FL         500.0        0.0   \n",
       "4169457        Baltimore, MD  TPA      Tampa, FL        2035.0        0.0   \n",
       "3836782  Fort Lauderdale, FL  SJU   San Juan, PR        1830.0        0.0   \n",
       "\n",
       "         CRS_ELAPSED_TIME  DISTANCE  Unnamed: 13  \n",
       "4908436             220.0    1258.0          NaN  \n",
       "4169457             145.0     842.0          NaN  \n",
       "3836782             158.0    1046.0          NaN  "
      ]
     },
     "execution_count": 2,
     "metadata": {},
     "output_type": "execute_result"
    }
   ],
   "source": [
    "# Loading our data\n",
    "df = pd.read_csv(\"../data/aggregated.csv\")\n",
    "# Here it is\n",
    "df = df.sample(500000)\n",
    "df.head(3)"
   ]
  },
  {
   "cell_type": "markdown",
   "metadata": {},
   "source": [
    "### I will drop some of the columns:\n",
    "- `FL_DATE`: Because I have the month, day of the week, day of the month, and year separately.\n",
    "- `ORIGIN_CITY_NAME`: Because the airport code will be enough.\n",
    "- `DEST_CITY_NAME`: Because the airport code will be enough.\n",
    "- `Unnamed: 13`: Because it is null for every row."
   ]
  },
  {
   "cell_type": "code",
   "execution_count": 3,
   "metadata": {},
   "outputs": [],
   "source": [
    "df.drop(['Unnamed: 13', 'ORIGIN_CITY_NAME', 'DEST_CITY_NAME'], axis=1, inplace=True)"
   ]
  },
  {
   "cell_type": "code",
   "execution_count": 4,
   "metadata": {},
   "outputs": [
    {
     "data": {
      "text/plain": [
       "ARR_DEL15           7014\n",
       "CRS_ELAPSED_TIME       2\n",
       "dtype: int64"
      ]
     },
     "execution_count": 4,
     "metadata": {},
     "output_type": "execute_result"
    }
   ],
   "source": [
    "# Let's have a look at our null values\n",
    "df.isna().sum()[df.isna().sum()!=0]"
   ]
  },
  {
   "cell_type": "markdown",
   "metadata": {},
   "source": [
    "### I will drop rows where `ARR_DEL15` is null since that is what we are predicting.\n",
    "### I will drop rows where `CRS_ELAPSED_TIME` is null since there are only 10 such rows."
   ]
  },
  {
   "cell_type": "code",
   "execution_count": 5,
   "metadata": {},
   "outputs": [],
   "source": [
    "# Getting rid of those\n",
    "df.dropna(inplace=True)"
   ]
  },
  {
   "cell_type": "markdown",
   "metadata": {},
   "source": [
    "### I will convert month and day columns to their cosine, to preserve the cyclical nature of time."
   ]
  },
  {
   "cell_type": "code",
   "execution_count": 6,
   "metadata": {},
   "outputs": [],
   "source": [
    "# Converting day and month number to cosine to conserve cyclical nature of dates\n",
    "df['DAY_OF_WEEK'] = df['DAY_OF_WEEK'].apply(lambda x: np.cos(x))\n",
    "df['MONTH'] = df['MONTH'].apply(lambda x: np.cos(x))"
   ]
  },
  {
   "cell_type": "code",
   "execution_count": 7,
   "metadata": {
    "scrolled": false
   },
   "outputs": [
    {
     "data": {
      "text/html": [
       "<div>\n",
       "<style scoped>\n",
       "    .dataframe tbody tr th:only-of-type {\n",
       "        vertical-align: middle;\n",
       "    }\n",
       "\n",
       "    .dataframe tbody tr th {\n",
       "        vertical-align: top;\n",
       "    }\n",
       "\n",
       "    .dataframe thead th {\n",
       "        text-align: right;\n",
       "    }\n",
       "</style>\n",
       "<table border=\"1\" class=\"dataframe\">\n",
       "  <thead>\n",
       "    <tr style=\"text-align: right;\">\n",
       "      <th></th>\n",
       "      <th>MONTH</th>\n",
       "      <th>DAY_OF_WEEK</th>\n",
       "      <th>FL_DATE</th>\n",
       "      <th>UNIQUE_CARRIER</th>\n",
       "      <th>FL_NUM</th>\n",
       "      <th>ORIGIN</th>\n",
       "      <th>DEST</th>\n",
       "      <th>CRS_DEP_TIME</th>\n",
       "      <th>ARR_DEL15</th>\n",
       "      <th>CRS_ELAPSED_TIME</th>\n",
       "      <th>DISTANCE</th>\n",
       "    </tr>\n",
       "  </thead>\n",
       "  <tbody>\n",
       "    <tr>\n",
       "      <th>4908436</th>\n",
       "      <td>0.540302</td>\n",
       "      <td>0.540302</td>\n",
       "      <td>2017-01-30</td>\n",
       "      <td>AA</td>\n",
       "      <td>2454.0</td>\n",
       "      <td>BOS</td>\n",
       "      <td>MIA</td>\n",
       "      <td>500.0</td>\n",
       "      <td>0.0</td>\n",
       "      <td>220.0</td>\n",
       "      <td>1258.0</td>\n",
       "    </tr>\n",
       "    <tr>\n",
       "      <th>4169457</th>\n",
       "      <td>-0.911130</td>\n",
       "      <td>-0.416147</td>\n",
       "      <td>2016-09-20</td>\n",
       "      <td>WN</td>\n",
       "      <td>983.0</td>\n",
       "      <td>BWI</td>\n",
       "      <td>TPA</td>\n",
       "      <td>2035.0</td>\n",
       "      <td>0.0</td>\n",
       "      <td>145.0</td>\n",
       "      <td>842.0</td>\n",
       "    </tr>\n",
       "    <tr>\n",
       "      <th>3836782</th>\n",
       "      <td>-0.911130</td>\n",
       "      <td>0.283662</td>\n",
       "      <td>2016-09-02</td>\n",
       "      <td>B6</td>\n",
       "      <td>1853.0</td>\n",
       "      <td>FLL</td>\n",
       "      <td>SJU</td>\n",
       "      <td>1830.0</td>\n",
       "      <td>0.0</td>\n",
       "      <td>158.0</td>\n",
       "      <td>1046.0</td>\n",
       "    </tr>\n",
       "  </tbody>\n",
       "</table>\n",
       "</div>"
      ],
      "text/plain": [
       "            MONTH  DAY_OF_WEEK     FL_DATE UNIQUE_CARRIER  FL_NUM ORIGIN DEST  \\\n",
       "4908436  0.540302     0.540302  2017-01-30             AA  2454.0    BOS  MIA   \n",
       "4169457 -0.911130    -0.416147  2016-09-20             WN   983.0    BWI  TPA   \n",
       "3836782 -0.911130     0.283662  2016-09-02             B6  1853.0    FLL  SJU   \n",
       "\n",
       "         CRS_DEP_TIME  ARR_DEL15  CRS_ELAPSED_TIME  DISTANCE  \n",
       "4908436         500.0        0.0             220.0    1258.0  \n",
       "4169457        2035.0        0.0             145.0     842.0  \n",
       "3836782        1830.0        0.0             158.0    1046.0  "
      ]
     },
     "execution_count": 7,
     "metadata": {},
     "output_type": "execute_result"
    }
   ],
   "source": [
    "# Here's our data at this stage\n",
    "df.head(3)"
   ]
  },
  {
   "cell_type": "markdown",
   "metadata": {},
   "source": [
    "## Baseline\n",
    "### It is important to see the distribution of delayed and non delayed flights."
   ]
  },
  {
   "cell_type": "code",
   "execution_count": null,
   "metadata": {},
   "outputs": [],
   "source": [
    "# Number of delayed flights\n",
    "d = df[df['ARR_DEL'] == 1].count()\n",
    "# Number of not delayed flights\n",
    "nd = df[df['ARR_DEL'] == 0],count()\n",
    "# Total flights\n",
    "t = d + nd\n",
    "# Ratio of non delayed flights\n",
    "ratio = nd/t\n",
    "\n",
    "print(f\"It looks like there are {t} flights of which {d} were delayed and {nd} were not delayed. This means that {np.round(ratio)}% of the flights were not delayed. We need to take this into attention when evasluating our model.\")"
   ]
  },
  {
   "cell_type": "markdown",
   "metadata": {},
   "source": [
    "## Some visualization"
   ]
  },
  {
   "cell_type": "code",
   "execution_count": 8,
   "metadata": {},
   "outputs": [],
   "source": [
    "# Let's see the distribution od delayed / not delayed flights for each unique carrier\n",
    "elements = []\n",
    "for x in df['UNIQUE_CARRIER'].unique():\n",
    "    segment = df[df['UNIQUE_CARRIER'] == x]\n",
    "    not_delayed = segment[segment['ARR_DEL15'] == 0].shape[0]\n",
    "    delayed = segment[segment['ARR_DEL15'] == 1].shape[0]\n",
    "    elements.append((x, not_delayed + delayed, delayed))"
   ]
  },
  {
   "cell_type": "markdown",
   "metadata": {},
   "source": [
    "### I will keep all the carriers in the dataset since none of them have a volume of flights low enough to ignore. DL seems to be doing good with delays since their rate is lower than the trend."
   ]
  },
  {
   "cell_type": "code",
   "execution_count": 9,
   "metadata": {},
   "outputs": [
    {
     "data": {
      "image/png": "[encoded data removed]",
      "text/plain": [
       "<Figure size 432x288 with 1 Axes>"
      ]
     },
     "metadata": {
      "needs_background": "light"
     },
     "output_type": "display_data"
    }
   ],
   "source": [
    "# Here's the graph\n",
    "plt.title(\"Delayed and not delayed flights for each unique carrier.\", size=10)\n",
    "for x in sorted(elements, key=lambda tup: tup[1], reverse=True):\n",
    "    plt.bar(x[0], x[1], color='black')\n",
    "    plt.bar(x[0], x[2], color='red')\n",
    "plt.legend(['Not Delayed', 'Delayed'])\n",
    "plt.show()"
   ]
  },
  {
   "cell_type": "code",
   "execution_count": 10,
   "metadata": {},
   "outputs": [],
   "source": [
    "# Extracting categorical features for One Hot Encoding\n",
    "categorical = df[['UNIQUE_CARRIER', 'ORIGIN', 'DEST']]"
   ]
  },
  {
   "cell_type": "code",
   "execution_count": 11,
   "metadata": {},
   "outputs": [],
   "source": [
    "# Fitting the encoder\n",
    "oh = OneHotEncoder(sparse=False)\n",
    "encoded = oh.fit_transform(categorical)"
   ]
  },
  {
   "cell_type": "code",
   "execution_count": 12,
   "metadata": {},
   "outputs": [],
   "source": [
    "# Converting to a dataframe\n",
    "dfe = pd.DataFrame(encoded, columns = ['l' + str(x+1) for x in range(encoded.shape[1])])"
   ]
  },
  {
   "cell_type": "code",
   "execution_count": 13,
   "metadata": {},
   "outputs": [],
   "source": [
    "# Reseting the indexes\n",
    "dfe.index = df.index\n",
    "# Combining the dataframes\n",
    "dfc = pd.concat([df, dfe], axis=1)"
   ]
  },
  {
   "cell_type": "code",
   "execution_count": 14,
   "metadata": {},
   "outputs": [],
   "source": [
    "# These afre label encoded so we can get rid of them\n",
    "dfc.drop(['UNIQUE_CARRIER', 'ORIGIN', 'DEST'], axis=1, inplace=True)"
   ]
  },
  {
   "cell_type": "code",
   "execution_count": null,
   "metadata": {},
   "outputs": [],
   "source": [
    "# I will also convert the date to a number so the model can understand it\n",
    "dfc['FL_DATE'] = pd.to_datetime(df['FL_DATE'])\n",
    "dfc['FL_DATE'] = [x.toordinal() for x in dfc['FL_DATE']]"
   ]
  },
  {
   "cell_type": "markdown",
   "metadata": {},
   "source": [
    "## Choice of metric\n",
    "### The best course of action will be using a precision score to evaluate the models output. The precision score looks at how much of thepredictions are correct across the classes. So it is not taking into account only the number of correct predictions but it is also weighting by the amount of elements in every category predicted.\n",
    "\n",
    "### It is also useful to make a confusion matrix to see the amount of misclassifications and where they are."
   ]
  },
  {
   "cell_type": "markdown",
   "metadata": {},
   "source": [
    "## Choice of model\n",
    "### After trying countless models like Logistic Regression, Boosting classifiers, Deep Neural Networks and KNN classifiers, I have decided to opt for Random Forest Classifier. This model should do goo due to the tabular nature of the data and I believe that it's structure and ability to ignore noise in the data will be useful for this particular data challenge. If a carrier or time if the day is showing a trend of being late, then the random forest classsifier should do a good job of catching onto that."
   ]
  },
  {
   "cell_type": "code",
   "execution_count": 16,
   "metadata": {},
   "outputs": [],
   "source": [
    "# df2 = df.sample(20000)\n",
    "X = dfc.drop(['ARR_DEL15'], axis=1)\n",
    "y = dfc['ARR_DEL15']\n",
    "\n",
    "X_train, X_test, y_train, y_test = train_test_split(X, y, test_size = 0.1, train_size=0.1, random_state = 42)"
   ]
  },
  {
   "cell_type": "code",
   "execution_count": 29,
   "metadata": {},
   "outputs": [],
   "source": [
    "# Let's gridsearch the best combination of arguments\n",
    "# Parameter grid\n",
    "params = {'random_state': [42],\n",
    "          'oob_score': [True],\n",
    "          'n_jobs': [-1],\n",
    "          'max_depth': [None, 3, 6, 9, 12, 16],\n",
    "          'criterion': ['gini', 'entropy'],\n",
    "          'class_weight': ['balanced', 'balanced_subsample']\n",
    "         }\n",
    "\n",
    "# Gridsearch\n",
    "g = GridSearchCV(estimator = RandomForestClassifier(),\n",
    "                 param_grid=params,\n",
    "                 cv = 10)"
   ]
  },
  {
   "cell_type": "code",
   "execution_count": 30,
   "metadata": {},
   "outputs": [
    {
     "data": {
      "text/plain": [
       "GridSearchCV(cv=10, estimator=RandomForestClassifier(),\n",
       "             param_grid={'class_weight': ['balanced', 'balanced_subsample'],\n",
       "                         'criterion': ['gini', 'entropy'],\n",
       "                         'max_depth': [None, 3, 6, 9, 12, 16], 'n_jobs': [-1],\n",
       "                         'oob_score': [True], 'random_state': [42]})"
      ]
     },
     "execution_count": 30,
     "metadata": {},
     "output_type": "execute_result"
    }
   ],
   "source": [
    "# Here is GridSearchC\n",
    "g.fit(X_train, y_train)"
   ]
  },
  {
   "cell_type": "code",
   "execution_count": 32,
   "metadata": {
    "scrolled": true
   },
   "outputs": [],
   "source": [
    "# Please do not run this as it will take ages, instead you can use the best parameters below.\n",
    "p = g.predict(X_test)"
   ]
  },
  {
   "cell_type": "code",
   "execution_count": 33,
   "metadata": {},
   "outputs": [],
   "source": [
    "# Makeing the confusion matrix\n",
    "m = confusion_matrix(y_test, p)"
   ]
  },
  {
   "cell_type": "code",
   "execution_count": 38,
   "metadata": {
    "scrolled": true
   },
   "outputs": [
    {
     "data": {
      "text/plain": [
       "0.8138501795168259"
      ]
     },
     "execution_count": 38,
     "metadata": {},
     "output_type": "execute_result"
    }
   ],
   "source": [
    "accuracy_score(y_test,p)"
   ]
  },
  {
   "cell_type": "code",
   "execution_count": 40,
   "metadata": {},
   "outputs": [
    {
     "data": {
      "text/plain": [
       "0.3657008613938919"
      ]
     },
     "execution_count": 40,
     "metadata": {},
     "output_type": "execute_result"
    }
   ],
   "source": [
    "precision_score(y_test, p)"
   ]
  },
  {
   "cell_type": "code",
   "execution_count": 39,
   "metadata": {},
   "outputs": [
    {
     "data": {
      "text/plain": [
       "{'class_weight': 'balanced',\n",
       " 'criterion': 'entropy',\n",
       " 'max_depth': None,\n",
       " 'n_jobs': -1,\n",
       " 'oob_score': True,\n",
       " 'random_state': 42}"
      ]
     },
     "execution_count": 39,
     "metadata": {},
     "output_type": "execute_result"
    }
   ],
   "source": [
    "# Here are the best parameters to run the model on your end\n",
    "g.best_params_"
   ]
  },
  {
   "cell_type": "code",
   "execution_count": 37,
   "metadata": {
    "scrolled": true
   },
   "outputs": [
    {
     "data": {
      "text/plain": [
       "<BarContainer object of 1 artists>"
      ]
     },
     "execution_count": 37,
     "metadata": {},
     "output_type": "execute_result"
    },
    {
     "data": {
      "image/png": "[encoded data removed]",
      "text/plain": [
       "<Figure size 432x288 with 1 Axes>"
      ]
     },
     "metadata": {
      "needs_background": "light"
     },
     "output_type": "display_data"
    }
   ],
   "source": [
    "# Here's a plot of the model's decisions\n",
    "plt.bar(\"True Positives\", m[0][0])\n",
    "plt.bar(\"True Negatives\", m[1][1])\n",
    "\n",
    "plt.bar(\"False Positives\", m[1][0])\n",
    "plt.bar(\"False Negatives\", m[0][1])\n"
   ]
  },
  {
   "cell_type": "markdown",
   "metadata": {},
   "source": [
    "### The model is favoring to predict no delays. Though this is not ideal, in this case if an airline is using this then I believe the model can be useful. It is better to announce to passengers that the flight will be on time sinze we do not want them to show up late for the flight and miss it."
   ]
  }
 ],
 "metadata": {
  "kernelspec": {
   "display_name": "Python 3",
   "language": "python",
   "name": "python3"
  },
  "language_info": {
   "codemirror_mode": {
    "name": "ipython",
    "version": 3
   },
   "file_extension": ".py",
   "mimetype": "text/x-python",
   "name": "python",
   "nbconvert_exporter": "python",
   "pygments_lexer": "ipython3",
   "version": "3.8.6"
  }
 },
 "nbformat": 4,
 "nbformat_minor": 4
}
